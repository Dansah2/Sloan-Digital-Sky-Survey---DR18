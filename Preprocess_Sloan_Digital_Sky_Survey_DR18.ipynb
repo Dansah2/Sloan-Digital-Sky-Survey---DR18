{
  "cells": [
    {
      "cell_type": "markdown",
      "metadata": {
        "id": "view-in-github",
        "colab_type": "text"
      },
      "source": [
        "<a href=\"https://colab.research.google.com/github/Dansah2/Sloan-Digital-Sky-Survey---DR18/blob/main/Preprocess_Sloan_Digital_Sky_Survey_DR18.ipynb\" target=\"_parent\"><img src=\"https://colab.research.google.com/assets/colab-badge.svg\" alt=\"Open In Colab\"/></a>"
      ]
    },
    {
      "cell_type": "markdown",
      "metadata": {
        "id": "3hMxaRaUgS57"
      },
      "source": [
        "#Sloan Digital Sky Survey - DR18"
      ]
    },
    {
      "cell_type": "markdown",
      "metadata": {
        "id": "WmqXtL_Vgbef"
      },
      "source": [
        "This dataset consists of 100,000 observations from the Data Release (DR) 18 of the Sloan Digital Sky Survey (SDSS). Each observation is described by 42 features and 1 class column classifying the observation as either:\n",
        "\n",
        "a STAR\n",
        "a GALAXY\n",
        "a QSO (Quasi-Stellar Object) or a Quasar.\n",
        "\n",
        "Kaggle Dataset Download API Command:\n",
        "\n",
        "kaggle datasets download -d diraf0/sloan-digital-sky-survey-dr18"
      ]
    },
    {
      "cell_type": "markdown",
      "metadata": {
        "id": "oAto-d2mgoTQ"
      },
      "source": [
        "#Project Outline:\n",
        "1) Download the dataset\n",
        "\n",
        "2) Explore/Analyze the data\n",
        "\n",
        "3) Preprocess and organize the data for ML training\n",
        "\n",
        "4) Set appropriate weights\n",
        "\n",
        "5) Create and Train model"
      ]
    },
    {
      "cell_type": "markdown",
      "metadata": {
        "id": "CoMar6Krgpol"
      },
      "source": [
        "##Download / Read the Dataset\n",
        "1) Install required libraries\n",
        "\n",
        "2) Import required libraries\n",
        "\n",
        "3) Download / Read data from Kaggle"
      ]
    },
    {
      "cell_type": "markdown",
      "metadata": {
        "id": "tLD_kjO7hS4O"
      },
      "source": [
        "###Install required libraries"
      ]
    },
    {
      "cell_type": "code",
      "execution_count": null,
      "metadata": {
        "colab": {
          "base_uri": "https://localhost:8080/"
        },
        "id": "Bfp9GjQihRld",
        "outputId": "476526d6-9469-4c81-9320-238ef2bd565c"
      },
      "outputs": [
        {
          "output_type": "stream",
          "name": "stdout",
          "text": [
            "\u001b[2K     \u001b[90m━━━━━━━━━━━━━━━━━━━━━━━━━━━━━━━━━━━━━━━━\u001b[0m \u001b[32m10.8/10.8 MB\u001b[0m \u001b[31m34.8 MB/s\u001b[0m eta \u001b[36m0:00:00\u001b[0m\n",
            "\u001b[2K     \u001b[90m━━━━━━━━━━━━━━━━━━━━━━━━━━━━━━━━━━━━━━━━\u001b[0m \u001b[32m18.2/18.2 MB\u001b[0m \u001b[31m55.9 MB/s\u001b[0m eta \u001b[36m0:00:00\u001b[0m\n",
            "\u001b[?25h\u001b[31mERROR: pip's dependency resolver does not currently take into account all the packages that are installed. This behaviour is the source of the following dependency conflicts.\n",
            "numba 0.56.4 requires numpy<1.24,>=1.18, but you have numpy 1.26.0 which is incompatible.\n",
            "tensorflow 2.13.0 requires numpy<=1.24.3,>=1.22, but you have numpy 1.26.0 which is incompatible.\u001b[0m\u001b[31m\n",
            "\u001b[0m"
          ]
        }
      ],
      "source": [
        "!pip install -q -U kaggle\n",
        "!pip install -q -U scikit-learn\n",
        "!pip install -q -U numpy"
      ]
    },
    {
      "cell_type": "markdown",
      "metadata": {
        "id": "cYV_Hnw1hhQP"
      },
      "source": [
        "###Import required libraries"
      ]
    },
    {
      "cell_type": "code",
      "execution_count": null,
      "metadata": {
        "id": "9SUK3SoSgnvS"
      },
      "outputs": [],
      "source": [
        "# handeling data\n",
        "import numpy as np\n",
        "import pandas as pd\n",
        "\n",
        "# downloading data\n",
        "from google.colab import drive\n",
        "\n",
        "# label encoding / scaling\n",
        "from sklearn.preprocessing import LabelEncoder, StandardScaler\n",
        "\n",
        "# graphing data\n",
        "import plotly.graph_objects as go"
      ]
    },
    {
      "cell_type": "code",
      "execution_count": null,
      "metadata": {
        "colab": {
          "base_uri": "https://localhost:8080/"
        },
        "id": "iMX7vtdffTEV",
        "outputId": "405a2f17-71e2-4859-cd3a-3bfaef819a05"
      },
      "outputs": [
        {
          "output_type": "stream",
          "name": "stdout",
          "text": [
            "Mounted at /content/drive\n"
          ]
        }
      ],
      "source": [
        "# Mount google drive to store Kaggle API for future use\n",
        "drive.mount('/content/drive')"
      ]
    },
    {
      "cell_type": "code",
      "execution_count": null,
      "metadata": {
        "id": "NJ0-aFjXh4R-"
      },
      "outputs": [],
      "source": [
        "# make a directory for kaggle temporary instance location in Colab\n",
        "! mkdir ~/.kaggle"
      ]
    },
    {
      "cell_type": "code",
      "execution_count": null,
      "metadata": {
        "id": "hONybl1Gh-Tg"
      },
      "outputs": [],
      "source": [
        "# upload json fine to Google drive and copy the temporary location\n",
        "!cp /content/drive/MyDrive/Kaggle_API/kaggle.json ~/.kaggle/kaggle.json"
      ]
    },
    {
      "cell_type": "code",
      "execution_count": null,
      "metadata": {
        "id": "IuNYuaqriA1y"
      },
      "outputs": [],
      "source": [
        "# change the file permissions to read/write to the owner only\n",
        "! chmod 600 ~/.kaggle/kaggle.json"
      ]
    },
    {
      "cell_type": "code",
      "execution_count": null,
      "metadata": {
        "colab": {
          "base_uri": "https://localhost:8080/"
        },
        "id": "LusSbx9ViDl_",
        "outputId": "9aca0c44-d8b7-4922-8ea8-0c4b6c94bd83"
      },
      "outputs": [
        {
          "output_type": "stream",
          "name": "stdout",
          "text": [
            "Downloading sloan-digital-sky-survey-dr18.zip to /content\n",
            " 95% 14.0M/14.7M [00:01<00:00, 22.3MB/s]\n",
            "100% 14.7M/14.7M [00:01<00:00, 15.2MB/s]\n"
          ]
        }
      ],
      "source": [
        "! kaggle datasets download -d diraf0/sloan-digital-sky-survey-dr18"
      ]
    },
    {
      "cell_type": "code",
      "execution_count": null,
      "metadata": {
        "colab": {
          "base_uri": "https://localhost:8080/"
        },
        "id": "a4KWe5H7kiwX",
        "outputId": "bc6f3e7f-e8ed-4df2-8708-ba2e50921df7"
      },
      "outputs": [
        {
          "output_type": "stream",
          "name": "stdout",
          "text": [
            "Archive:  sloan-digital-sky-survey-dr18.zip\n",
            "  inflating: SDSS_DR18.csv           \n"
          ]
        }
      ],
      "source": [
        "! unzip sloan-digital-sky-survey-dr18.zip"
      ]
    },
    {
      "cell_type": "code",
      "execution_count": null,
      "metadata": {
        "id": "sdasQl-fkmaL"
      },
      "outputs": [],
      "source": [
        "def read_function(csv_file):\n",
        "    return pd.read_csv(csv_file)\n",
        "\n",
        "raw_data = read_function('SDSS_DR18.csv')\n"
      ]
    },
    {
      "cell_type": "markdown",
      "metadata": {
        "id": "PJtdd08-ORCI"
      },
      "source": [
        "##Preprocess and organize the data for ML training\n",
        "1) Label Encoding\n",
        "\n",
        "2) Drop unecessary columns\n",
        "\n",
        "3) Save Preprocessed data to Google Drive"
      ]
    },
    {
      "cell_type": "markdown",
      "source": [
        "####Label Encoding"
      ],
      "metadata": {
        "id": "xA5BStACmLu2"
      }
    },
    {
      "cell_type": "code",
      "execution_count": null,
      "metadata": {
        "id": "BJskWQuZOkNu"
      },
      "outputs": [],
      "source": [
        "# label encoding\n",
        "def encode_label(data_frame, target, new_col_name):\n",
        "  # creating instance of labelencoder\n",
        "  labelencoder = LabelEncoder()\n",
        "\n",
        "  #assign numerical values and store in another column\n",
        "  data_frame[new_col_name] = labelencoder.fit_transform(data_frame[target])\n",
        "\n",
        "  return data_frame\n",
        "\n",
        "raw_data = encode_label(raw_data, 'class', 'e_class')"
      ]
    },
    {
      "cell_type": "code",
      "source": [
        "# compare the original 'class' feature to the label encoded 'e_class' feature\n",
        "raw_data.iloc[19:22, -2:].head(30)"
      ],
      "metadata": {
        "colab": {
          "base_uri": "https://localhost:8080/",
          "height": 142
        },
        "id": "Tkd3NH4lWzE4",
        "outputId": "25af196c-bbd4-4a16-9b75-77d7e64a4a5c"
      },
      "execution_count": null,
      "outputs": [
        {
          "output_type": "execute_result",
          "data": {
            "text/plain": [
              "     class  e_class\n",
              "19    STAR        2\n",
              "20     QSO        1\n",
              "21  GALAXY        0"
            ],
            "text/html": [
              "\n",
              "  <div id=\"df-75d3a1e9-74a5-4b67-beb6-0110acde3052\" class=\"colab-df-container\">\n",
              "    <div>\n",
              "<style scoped>\n",
              "    .dataframe tbody tr th:only-of-type {\n",
              "        vertical-align: middle;\n",
              "    }\n",
              "\n",
              "    .dataframe tbody tr th {\n",
              "        vertical-align: top;\n",
              "    }\n",
              "\n",
              "    .dataframe thead th {\n",
              "        text-align: right;\n",
              "    }\n",
              "</style>\n",
              "<table border=\"1\" class=\"dataframe\">\n",
              "  <thead>\n",
              "    <tr style=\"text-align: right;\">\n",
              "      <th></th>\n",
              "      <th>class</th>\n",
              "      <th>e_class</th>\n",
              "    </tr>\n",
              "  </thead>\n",
              "  <tbody>\n",
              "    <tr>\n",
              "      <th>19</th>\n",
              "      <td>STAR</td>\n",
              "      <td>2</td>\n",
              "    </tr>\n",
              "    <tr>\n",
              "      <th>20</th>\n",
              "      <td>QSO</td>\n",
              "      <td>1</td>\n",
              "    </tr>\n",
              "    <tr>\n",
              "      <th>21</th>\n",
              "      <td>GALAXY</td>\n",
              "      <td>0</td>\n",
              "    </tr>\n",
              "  </tbody>\n",
              "</table>\n",
              "</div>\n",
              "    <div class=\"colab-df-buttons\">\n",
              "\n",
              "  <div class=\"colab-df-container\">\n",
              "    <button class=\"colab-df-convert\" onclick=\"convertToInteractive('df-75d3a1e9-74a5-4b67-beb6-0110acde3052')\"\n",
              "            title=\"Convert this dataframe to an interactive table.\"\n",
              "            style=\"display:none;\">\n",
              "\n",
              "  <svg xmlns=\"http://www.w3.org/2000/svg\" height=\"24px\" viewBox=\"0 -960 960 960\">\n",
              "    <path d=\"M120-120v-720h720v720H120Zm60-500h600v-160H180v160Zm220 220h160v-160H400v160Zm0 220h160v-160H400v160ZM180-400h160v-160H180v160Zm440 0h160v-160H620v160ZM180-180h160v-160H180v160Zm440 0h160v-160H620v160Z\"/>\n",
              "  </svg>\n",
              "    </button>\n",
              "\n",
              "  <style>\n",
              "    .colab-df-container {\n",
              "      display:flex;\n",
              "      gap: 12px;\n",
              "    }\n",
              "\n",
              "    .colab-df-convert {\n",
              "      background-color: #E8F0FE;\n",
              "      border: none;\n",
              "      border-radius: 50%;\n",
              "      cursor: pointer;\n",
              "      display: none;\n",
              "      fill: #1967D2;\n",
              "      height: 32px;\n",
              "      padding: 0 0 0 0;\n",
              "      width: 32px;\n",
              "    }\n",
              "\n",
              "    .colab-df-convert:hover {\n",
              "      background-color: #E2EBFA;\n",
              "      box-shadow: 0px 1px 2px rgba(60, 64, 67, 0.3), 0px 1px 3px 1px rgba(60, 64, 67, 0.15);\n",
              "      fill: #174EA6;\n",
              "    }\n",
              "\n",
              "    .colab-df-buttons div {\n",
              "      margin-bottom: 4px;\n",
              "    }\n",
              "\n",
              "    [theme=dark] .colab-df-convert {\n",
              "      background-color: #3B4455;\n",
              "      fill: #D2E3FC;\n",
              "    }\n",
              "\n",
              "    [theme=dark] .colab-df-convert:hover {\n",
              "      background-color: #434B5C;\n",
              "      box-shadow: 0px 1px 3px 1px rgba(0, 0, 0, 0.15);\n",
              "      filter: drop-shadow(0px 1px 2px rgba(0, 0, 0, 0.3));\n",
              "      fill: #FFFFFF;\n",
              "    }\n",
              "  </style>\n",
              "\n",
              "    <script>\n",
              "      const buttonEl =\n",
              "        document.querySelector('#df-75d3a1e9-74a5-4b67-beb6-0110acde3052 button.colab-df-convert');\n",
              "      buttonEl.style.display =\n",
              "        google.colab.kernel.accessAllowed ? 'block' : 'none';\n",
              "\n",
              "      async function convertToInteractive(key) {\n",
              "        const element = document.querySelector('#df-75d3a1e9-74a5-4b67-beb6-0110acde3052');\n",
              "        const dataTable =\n",
              "          await google.colab.kernel.invokeFunction('convertToInteractive',\n",
              "                                                    [key], {});\n",
              "        if (!dataTable) return;\n",
              "\n",
              "        const docLinkHtml = 'Like what you see? Visit the ' +\n",
              "          '<a target=\"_blank\" href=https://colab.research.google.com/notebooks/data_table.ipynb>data table notebook</a>'\n",
              "          + ' to learn more about interactive tables.';\n",
              "        element.innerHTML = '';\n",
              "        dataTable['output_type'] = 'display_data';\n",
              "        await google.colab.output.renderOutput(dataTable, element);\n",
              "        const docLink = document.createElement('div');\n",
              "        docLink.innerHTML = docLinkHtml;\n",
              "        element.appendChild(docLink);\n",
              "      }\n",
              "    </script>\n",
              "  </div>\n",
              "\n",
              "\n",
              "<div id=\"df-1bbd227b-0483-41a1-be07-f48412614da2\">\n",
              "  <button class=\"colab-df-quickchart\" onclick=\"quickchart('df-1bbd227b-0483-41a1-be07-f48412614da2')\"\n",
              "            title=\"Suggest charts.\"\n",
              "            style=\"display:none;\">\n",
              "\n",
              "<svg xmlns=\"http://www.w3.org/2000/svg\" height=\"24px\"viewBox=\"0 0 24 24\"\n",
              "     width=\"24px\">\n",
              "    <g>\n",
              "        <path d=\"M19 3H5c-1.1 0-2 .9-2 2v14c0 1.1.9 2 2 2h14c1.1 0 2-.9 2-2V5c0-1.1-.9-2-2-2zM9 17H7v-7h2v7zm4 0h-2V7h2v10zm4 0h-2v-4h2v4z\"/>\n",
              "    </g>\n",
              "</svg>\n",
              "  </button>\n",
              "\n",
              "<style>\n",
              "  .colab-df-quickchart {\n",
              "      --bg-color: #E8F0FE;\n",
              "      --fill-color: #1967D2;\n",
              "      --hover-bg-color: #E2EBFA;\n",
              "      --hover-fill-color: #174EA6;\n",
              "      --disabled-fill-color: #AAA;\n",
              "      --disabled-bg-color: #DDD;\n",
              "  }\n",
              "\n",
              "  [theme=dark] .colab-df-quickchart {\n",
              "      --bg-color: #3B4455;\n",
              "      --fill-color: #D2E3FC;\n",
              "      --hover-bg-color: #434B5C;\n",
              "      --hover-fill-color: #FFFFFF;\n",
              "      --disabled-bg-color: #3B4455;\n",
              "      --disabled-fill-color: #666;\n",
              "  }\n",
              "\n",
              "  .colab-df-quickchart {\n",
              "    background-color: var(--bg-color);\n",
              "    border: none;\n",
              "    border-radius: 50%;\n",
              "    cursor: pointer;\n",
              "    display: none;\n",
              "    fill: var(--fill-color);\n",
              "    height: 32px;\n",
              "    padding: 0;\n",
              "    width: 32px;\n",
              "  }\n",
              "\n",
              "  .colab-df-quickchart:hover {\n",
              "    background-color: var(--hover-bg-color);\n",
              "    box-shadow: 0 1px 2px rgba(60, 64, 67, 0.3), 0 1px 3px 1px rgba(60, 64, 67, 0.15);\n",
              "    fill: var(--button-hover-fill-color);\n",
              "  }\n",
              "\n",
              "  .colab-df-quickchart-complete:disabled,\n",
              "  .colab-df-quickchart-complete:disabled:hover {\n",
              "    background-color: var(--disabled-bg-color);\n",
              "    fill: var(--disabled-fill-color);\n",
              "    box-shadow: none;\n",
              "  }\n",
              "\n",
              "  .colab-df-spinner {\n",
              "    border: 2px solid var(--fill-color);\n",
              "    border-color: transparent;\n",
              "    border-bottom-color: var(--fill-color);\n",
              "    animation:\n",
              "      spin 1s steps(1) infinite;\n",
              "  }\n",
              "\n",
              "  @keyframes spin {\n",
              "    0% {\n",
              "      border-color: transparent;\n",
              "      border-bottom-color: var(--fill-color);\n",
              "      border-left-color: var(--fill-color);\n",
              "    }\n",
              "    20% {\n",
              "      border-color: transparent;\n",
              "      border-left-color: var(--fill-color);\n",
              "      border-top-color: var(--fill-color);\n",
              "    }\n",
              "    30% {\n",
              "      border-color: transparent;\n",
              "      border-left-color: var(--fill-color);\n",
              "      border-top-color: var(--fill-color);\n",
              "      border-right-color: var(--fill-color);\n",
              "    }\n",
              "    40% {\n",
              "      border-color: transparent;\n",
              "      border-right-color: var(--fill-color);\n",
              "      border-top-color: var(--fill-color);\n",
              "    }\n",
              "    60% {\n",
              "      border-color: transparent;\n",
              "      border-right-color: var(--fill-color);\n",
              "    }\n",
              "    80% {\n",
              "      border-color: transparent;\n",
              "      border-right-color: var(--fill-color);\n",
              "      border-bottom-color: var(--fill-color);\n",
              "    }\n",
              "    90% {\n",
              "      border-color: transparent;\n",
              "      border-bottom-color: var(--fill-color);\n",
              "    }\n",
              "  }\n",
              "</style>\n",
              "\n",
              "  <script>\n",
              "    async function quickchart(key) {\n",
              "      const quickchartButtonEl =\n",
              "        document.querySelector('#' + key + ' button');\n",
              "      quickchartButtonEl.disabled = true;  // To prevent multiple clicks.\n",
              "      quickchartButtonEl.classList.add('colab-df-spinner');\n",
              "      try {\n",
              "        const charts = await google.colab.kernel.invokeFunction(\n",
              "            'suggestCharts', [key], {});\n",
              "      } catch (error) {\n",
              "        console.error('Error during call to suggestCharts:', error);\n",
              "      }\n",
              "      quickchartButtonEl.classList.remove('colab-df-spinner');\n",
              "      quickchartButtonEl.classList.add('colab-df-quickchart-complete');\n",
              "    }\n",
              "    (() => {\n",
              "      let quickchartButtonEl =\n",
              "        document.querySelector('#df-1bbd227b-0483-41a1-be07-f48412614da2 button');\n",
              "      quickchartButtonEl.style.display =\n",
              "        google.colab.kernel.accessAllowed ? 'block' : 'none';\n",
              "    })();\n",
              "  </script>\n",
              "</div>\n",
              "    </div>\n",
              "  </div>\n"
            ]
          },
          "metadata": {},
          "execution_count": 11
        }
      ]
    },
    {
      "cell_type": "code",
      "source": [
        "# confirm the names of each column\n",
        "raw_data.columns"
      ],
      "metadata": {
        "colab": {
          "base_uri": "https://localhost:8080/"
        },
        "id": "k99ImQ3-apny",
        "outputId": "e55f75c5-1f98-4679-df64-409614632c58"
      },
      "execution_count": null,
      "outputs": [
        {
          "output_type": "execute_result",
          "data": {
            "text/plain": [
              "Index(['objid', 'specobjid', 'ra', 'dec', 'u', 'g', 'r', 'i', 'z', 'run',\n",
              "       'rerun', 'camcol', 'field', 'plate', 'mjd', 'fiberid', 'petroRad_u',\n",
              "       'petroRad_g', 'petroRad_i', 'petroRad_r', 'petroRad_z', 'petroFlux_u',\n",
              "       'petroFlux_g', 'petroFlux_i', 'petroFlux_r', 'petroFlux_z',\n",
              "       'petroR50_u', 'petroR50_g', 'petroR50_i', 'petroR50_r', 'petroR50_z',\n",
              "       'psfMag_u', 'psfMag_r', 'psfMag_g', 'psfMag_i', 'psfMag_z', 'expAB_u',\n",
              "       'expAB_g', 'expAB_r', 'expAB_i', 'expAB_z', 'redshift', 'class',\n",
              "       'e_class'],\n",
              "      dtype='object')"
            ]
          },
          "metadata": {},
          "execution_count": 17
        }
      ]
    },
    {
      "cell_type": "markdown",
      "source": [
        "####Drop Unecessary Columns"
      ],
      "metadata": {
        "id": "pkHa_nS8mOxO"
      }
    },
    {
      "cell_type": "code",
      "execution_count": null,
      "metadata": {
        "id": "zM1yP_maYM6v",
        "colab": {
          "base_uri": "https://localhost:8080/"
        },
        "outputId": "b8c534c3-f515-43bc-f774-6ffc5bce82fa"
      },
      "outputs": [
        {
          "output_type": "stream",
          "name": "stdout",
          "text": [
            "The remaining colums are: Index(['specobjid', 'ra', 'dec', 'u', 'g', 'r', 'i', 'z', 'plate', 'mjd',\n",
            "       'petroRad_u', 'petroRad_g', 'petroRad_i', 'petroRad_r', 'petroRad_z',\n",
            "       'petroFlux_u', 'petroFlux_g', 'petroFlux_i', 'petroFlux_r',\n",
            "       'petroFlux_z', 'petroR50_u', 'petroR50_g', 'petroR50_i', 'petroR50_r',\n",
            "       'petroR50_z', 'psfMag_u', 'psfMag_r', 'psfMag_g', 'psfMag_i',\n",
            "       'psfMag_z', 'expAB_u', 'expAB_g', 'expAB_r', 'expAB_i', 'expAB_z',\n",
            "       'redshift', 'e_class'],\n",
            "      dtype='object')\n"
          ]
        }
      ],
      "source": [
        "#drop columns\n",
        "def drop_columns(data_frame, col_name):\n",
        "  try:\n",
        "    data_frame = data_frame.drop(columns=col_name)\n",
        "    print(f'The remaining colums are: {data_frame.columns}')\n",
        "    return data_frame\n",
        "  except:\n",
        "    print(f'The column(s) have already been dropped, the remaining are: {data_frame.columns}')\n",
        "\n",
        "raw_data = drop_columns(raw_data, ['class', 'objid', 'run', 'rerun', 'camcol', 'field', 'fiberid'])"
      ]
    },
    {
      "cell_type": "markdown",
      "source": [
        "####Save Preprocessed data to Google Drive"
      ],
      "metadata": {
        "id": "GcFjhR1-mbQd"
      }
    },
    {
      "cell_type": "code",
      "source": [
        "# export the data\n",
        "raw_data.to_csv('/content/drive/My Drive/Sloan_Sky_Survey/train_df.csv', index=False)\n",
        "\n",
        "#verify it was exported\n",
        "df_verify = pd.read_csv('/content/drive/My Drive/Sloan_Sky_Survey/train_df.csv')\n",
        "print(df_verify)"
      ],
      "metadata": {
        "id": "n-mIEX8ZmlGG",
        "colab": {
          "base_uri": "https://localhost:8080/"
        },
        "outputId": "f92cd116-e829-482d-f714-7325ddf212e6"
      },
      "execution_count": null,
      "outputs": [
        {
          "output_type": "stream",
          "name": "stdout",
          "text": [
            "          specobjid          ra        dec         u         g         r  \\\n",
            "0      3.240000e+17  184.950869   0.733068  18.87062  17.59612  17.11245   \n",
            "1      3.250000e+17  185.729201   0.679704  19.59560  19.92153  20.34448   \n",
            "2      3.240000e+17  185.687690   0.823480  19.26421  17.87891  17.09593   \n",
            "3      2.880000e+18  185.677904   0.768362  19.49739  17.96166  17.41269   \n",
            "4      2.880000e+18  185.814763   0.776940  18.31519  16.83033  16.26352   \n",
            "...             ...         ...        ...       ...       ...       ...   \n",
            "99995  3.580000e+18  154.077143  55.614066  19.39861  18.35476  18.00348   \n",
            "99996  3.580000e+18  154.067926  55.635794  19.07703  18.05159  17.78332   \n",
            "99997  1.070000e+18  153.897018  55.712582  19.07982  17.51349  16.64037   \n",
            "99998  6.950000e+17  235.656141  56.297044  17.27528  16.41704  16.11662   \n",
            "99999  6.950000e+17  235.821749  56.400331  17.90598  16.86471  16.51673   \n",
            "\n",
            "              i         z  plate    mjd  ...  psfMag_g  psfMag_i  psfMag_z  \\\n",
            "0      16.83899  16.70908    288  52000  ...  19.96352  19.25145  19.05230   \n",
            "1      20.66213  20.59599    289  51990  ...  19.92417  20.65535  20.57387   \n",
            "2      16.65159  16.35329    288  52000  ...  19.33645  18.16669  17.78844   \n",
            "3      17.20545  17.11567   2558  54140  ...  17.96176  17.21564  17.12367   \n",
            "4      16.06320  15.97527   2558  54140  ...  16.85104  16.08275  15.98694   \n",
            "...         ...       ...    ...    ...  ...       ...       ...       ...   \n",
            "99995  17.89408  17.81222   3177  54833  ...  18.35865  17.90406  17.82489   \n",
            "99996  17.68976  17.66209   3177  54833  ...  18.06198  17.69745  17.67005   \n",
            "99997  16.24183  15.91180    946  52407  ...  19.05242  17.79391  17.40130   \n",
            "99998  15.98858  15.97745    617  52072  ...  16.42854  15.98151  15.97900   \n",
            "99999  16.35695  16.22508    617  52072  ...  19.24882  18.77434  18.66533   \n",
            "\n",
            "        expAB_u   expAB_g   expAB_r   expAB_i   expAB_z  redshift  e_class  \n",
            "0      0.479021  0.518483  0.520474  0.508502  0.488969  0.041691        0  \n",
            "1      0.573926  0.531728  0.403072  0.999874  0.189495 -0.000814        2  \n",
            "2      0.701666  0.743386  0.770897  0.778642  0.736771  0.113069        0  \n",
            "3      0.999818  0.787760  0.745611  0.399718  0.986137  0.000087        2  \n",
            "4      0.999795  0.834450  0.723526  0.712259  0.527055  0.000018        2  \n",
            "...         ...       ...       ...       ...       ...       ...      ...  \n",
            "99995  0.999653  0.999791  0.794516  0.802310  0.537987 -0.000101        2  \n",
            "99996  0.802407  0.999912  0.999776  0.999682  0.544329 -0.000352        2  \n",
            "99997  0.859021  0.760212  0.769053  0.772322  0.845797  0.117501        0  \n",
            "99998  0.655041  0.199795  0.481020  0.650008  0.822835 -0.000400        2  \n",
            "99999  0.396915  0.415040  0.437322  0.437766  0.446210  0.014457        0  \n",
            "\n",
            "[100000 rows x 37 columns]\n"
          ]
        }
      ]
    }
  ],
  "metadata": {
    "colab": {
      "provenance": [],
      "authorship_tag": "ABX9TyNol7uhhCaNfZPng5+f96DY",
      "include_colab_link": true
    },
    "kernelspec": {
      "display_name": "Python 3",
      "name": "python3"
    },
    "language_info": {
      "name": "python"
    }
  },
  "nbformat": 4,
  "nbformat_minor": 0
}