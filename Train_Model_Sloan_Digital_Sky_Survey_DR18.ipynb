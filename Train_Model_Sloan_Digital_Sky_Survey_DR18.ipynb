{
  "cells": [
    {
      "cell_type": "markdown",
      "metadata": {
        "id": "view-in-github",
        "colab_type": "text"
      },
      "source": [
        "<a href=\"https://colab.research.google.com/github/Dansah2/Sloan-Digital-Sky-Survey---DR18/blob/main/Train_Model_Sloan_Digital_Sky_Survey_DR18.ipynb\" target=\"_parent\"><img src=\"https://colab.research.google.com/assets/colab-badge.svg\" alt=\"Open In Colab\"/></a>"
      ]
    },
    {
      "cell_type": "markdown",
      "metadata": {
        "id": "3hMxaRaUgS57"
      },
      "source": [
        "#Sloan Digital Sky Survey - DR18"
      ]
    },
    {
      "cell_type": "markdown",
      "metadata": {
        "id": "WmqXtL_Vgbef"
      },
      "source": [
        "This dataset consists of 100,000 observations from the Data Release (DR) 18 of the Sloan Digital Sky Survey (SDSS). Each observation is described by 42 features and 1 class column classifying the observation as either:\n",
        "\n",
        "a STAR\n",
        "a GALAXY\n",
        "a QSO (Quasi-Stellar Object) or a Quasar.\n",
        "\n",
        "Kaggle Dataset Download API Command:\n",
        "\n",
        "kaggle datasets download -d diraf0/sloan-digital-sky-survey-dr18"
      ]
    },
    {
      "cell_type": "markdown",
      "metadata": {
        "id": "oAto-d2mgoTQ"
      },
      "source": [
        "#Project Outline:\n",
        "1) Download the dataset\n",
        "\n",
        "2) Explore/Analyze the data\n",
        "\n",
        "3) Preprocess and organize the data for ML training\n",
        "\n",
        "4) Set appropriate weights\n",
        "\n",
        "5) Create and Train model"
      ]
    },
    {
      "cell_type": "markdown",
      "metadata": {
        "id": "CoMar6Krgpol"
      },
      "source": [
        "##Download / Read the Dataset\n",
        "1) Install required libraries\n",
        "\n",
        "2) Import required libraries\n",
        "\n",
        "3) Upload the data from Google Drive"
      ]
    },
    {
      "cell_type": "markdown",
      "metadata": {
        "id": "tLD_kjO7hS4O"
      },
      "source": [
        "###Install required libraries"
      ]
    },
    {
      "cell_type": "code",
      "execution_count": null,
      "metadata": {
        "colab": {
          "base_uri": "https://localhost:8080/"
        },
        "id": "Bfp9GjQihRld",
        "outputId": "407f110c-af1a-478a-e077-eac6d8ff0587"
      },
      "outputs": [
        {
          "output_type": "stream",
          "name": "stdout",
          "text": [
            "\u001b[2K     \u001b[90m━━━━━━━━━━━━━━━━━━━━━━━━━━━━━━━━━━━━━━━━\u001b[0m \u001b[32m10.8/10.8 MB\u001b[0m \u001b[31m33.4 MB/s\u001b[0m eta \u001b[36m0:00:00\u001b[0m\n",
            "\u001b[2K     \u001b[90m━━━━━━━━━━━━━━━━━━━━━━━━━━━━━━━━━━━━━━━━\u001b[0m \u001b[32m18.2/18.2 MB\u001b[0m \u001b[31m23.3 MB/s\u001b[0m eta \u001b[36m0:00:00\u001b[0m\n",
            "\u001b[?25h\u001b[31mERROR: pip's dependency resolver does not currently take into account all the packages that are installed. This behaviour is the source of the following dependency conflicts.\n",
            "numba 0.56.4 requires numpy<1.24,>=1.18, but you have numpy 1.26.0 which is incompatible.\n",
            "tensorflow 2.13.0 requires numpy<=1.24.3,>=1.22, but you have numpy 1.26.0 which is incompatible.\u001b[0m\u001b[31m\n",
            "\u001b[2K     \u001b[90m━━━━━━━━━━━━━━━━━━━━━━━━━━━━━━━━━━━━━━\u001b[0m \u001b[32m805.2/805.2 kB\u001b[0m \u001b[31m11.1 MB/s\u001b[0m eta \u001b[36m0:00:00\u001b[0m\n",
            "\u001b[?25h"
          ]
        }
      ],
      "source": [
        "!pip install -q -U kaggle\n",
        "!pip install -q -U scikit-learn\n",
        "!pip install -q -U numpy\n",
        "!pip install -q -U torchmetrics"
      ]
    },
    {
      "cell_type": "markdown",
      "metadata": {
        "id": "cYV_Hnw1hhQP"
      },
      "source": [
        "###Import required libraries"
      ]
    },
    {
      "cell_type": "code",
      "execution_count": null,
      "metadata": {
        "id": "9SUK3SoSgnvS"
      },
      "outputs": [],
      "source": [
        "# handeling data\n",
        "import numpy as np\n",
        "import pandas as pd\n",
        "\n",
        "# graphing data\n",
        "pd.options.plotting.backend = \"plotly\"\n",
        "import plotly.graph_objects as go\n",
        "import plotly.express as px\n",
        "from plotly.subplots import make_subplots\n",
        "\n",
        "# downloading data\n",
        "from google.colab import drive\n",
        "\n",
        "# splitting data\n",
        "from torch.utils.data import random_split\n",
        "from sklearn.model_selection import train_test_split\n",
        "\n",
        "# training the data\n",
        "import torch\n",
        "import torch.nn.functional as F\n",
        "from torch import nn\n",
        "import torchmetrics\n",
        "from torchmetrics import Accuracy\n",
        "from torch.utils.data import DataLoader, WeightedRandomSampler\n",
        "\n",
        "# evaluation metrics\n",
        "from sklearn.metrics import precision_score, recall_score"
      ]
    },
    {
      "cell_type": "markdown",
      "source": [
        "####Upload the data from Google Drive"
      ],
      "metadata": {
        "id": "2ckOx8jYrcKn"
      }
    },
    {
      "cell_type": "code",
      "execution_count": null,
      "metadata": {
        "colab": {
          "base_uri": "https://localhost:8080/"
        },
        "id": "iMX7vtdffTEV",
        "outputId": "779a04f4-600f-4cd5-e127-09738cba3c37"
      },
      "outputs": [
        {
          "output_type": "stream",
          "name": "stdout",
          "text": [
            "Mounted at /content/drive\n"
          ]
        }
      ],
      "source": [
        "# Mount google drive to store Kaggle API for future use\n",
        "drive.mount('/content/drive')"
      ]
    },
    {
      "cell_type": "code",
      "execution_count": null,
      "metadata": {
        "id": "sdasQl-fkmaL"
      },
      "outputs": [],
      "source": [
        "def read_function(csv_file):\n",
        "    return pd.read_csv(csv_file)\n",
        "\n",
        "raw_data = read_function('/content/drive/My Drive/Sloan_Sky_Survey/train_df.csv')\n"
      ]
    },
    {
      "cell_type": "markdown",
      "metadata": {
        "id": "LslL7TqKZeU1"
      },
      "source": [
        "## Create and Train model\n",
        "1) Set Device Agnostic Code\n",
        "\n",
        "2) Obtain the Class Weights\n",
        "\n",
        "3) Define the Focal Loss Function\n",
        "\n",
        "4) Define the Accuracy Function /Set Hyperparameters\n",
        "\n",
        "5) Train the Model"
      ]
    },
    {
      "cell_type": "markdown",
      "metadata": {
        "id": "V8XqzpiWLIZo"
      },
      "source": [
        "### Set Device Agnostic Code"
      ]
    },
    {
      "cell_type": "code",
      "execution_count": null,
      "metadata": {
        "colab": {
          "base_uri": "https://localhost:8080/",
          "height": 35
        },
        "id": "Vic6o58LLHY0",
        "outputId": "eac36ddb-9588-4f99-9049-2f31bff04d56"
      },
      "outputs": [
        {
          "output_type": "execute_result",
          "data": {
            "text/plain": [
              "'cpu'"
            ],
            "application/vnd.google.colaboratory.intrinsic+json": {
              "type": "string"
            }
          },
          "metadata": {},
          "execution_count": 4
        }
      ],
      "source": [
        "device = 'cuda' if torch.cuda.is_available() else 'cpu'\n",
        "device"
      ]
    },
    {
      "cell_type": "markdown",
      "source": [
        "### Split the Data into Training and Testing sets"
      ],
      "metadata": {
        "id": "YmtPSE-7y8u_"
      }
    },
    {
      "cell_type": "code",
      "execution_count": null,
      "metadata": {
        "id": "AAOa1henZygU"
      },
      "outputs": [],
      "source": [
        "def split_return_tensor(data_frame, target):\n",
        "\n",
        "  # create X and y varialbles\n",
        "  y = data_frame[target]\n",
        "  X = data_frame.drop(columns=target)\n",
        "\n",
        "  # convert y into type int64\n",
        "  y = torch.tensor(y.values)\n",
        "  y = y.type(torch.LongTensor)\n",
        "\n",
        "  #convert X into type float32\n",
        "  X = torch.tensor(X.values)\n",
        "  X = X.type(torch.FloatTensor)\n",
        "\n",
        "  # convert X and y to a tensor dataset\n",
        "  tensor_data = torch.utils.data.TensorDataset(X, y)\n",
        "\n",
        "  # create the train and holding sizes\n",
        "  train_size = int(0.8 * len(tensor_data))\n",
        "  hold_size = len(tensor_data) - train_size\n",
        "\n",
        "  # create the training data\n",
        "  train_dataset, hold_dataset = random_split(tensor_data, [train_size, hold_size])\n",
        "\n",
        "  # create validation and testing sizes\n",
        "  valid_size = int(0.5 * len(hold_dataset))\n",
        "  test_size = len(hold_dataset) - valid_size\n",
        "\n",
        "  # create the validation and testing data\n",
        "  vaild_dataset, test_dataset = random_split(hold_dataset, [valid_size, test_size])\n",
        "\n",
        "  return train_dataset, vaild_dataset, test_dataset\n",
        "\n",
        "train_tensor, valid_tensor, test_tensor = split_return_tensor(raw_data, 'e_class')"
      ]
    },
    {
      "cell_type": "markdown",
      "source": [
        "### Create the Model"
      ],
      "metadata": {
        "id": "Umm02tCNzCXo"
      }
    },
    {
      "cell_type": "code",
      "execution_count": null,
      "metadata": {
        "colab": {
          "base_uri": "https://localhost:8080/"
        },
        "id": "PO9aVx91MnqP",
        "outputId": "f355a373-80b6-47c6-e879-57a5d34c4a7b"
      },
      "outputs": [
        {
          "output_type": "execute_result",
          "data": {
            "text/plain": [
              "Model(\n",
              "  (linear_layer_stack): Sequential(\n",
              "    (0): Linear(in_features=36, out_features=8, bias=True)\n",
              "    (1): BatchNorm1d(8, eps=1e-05, momentum=0.1, affine=True, track_running_stats=True)\n",
              "    (2): ReLU()\n",
              "    (3): Dropout(p=0.2, inplace=False)\n",
              "    (4): Linear(in_features=8, out_features=8, bias=True)\n",
              "    (5): BatchNorm1d(8, eps=1e-05, momentum=0.1, affine=True, track_running_stats=True)\n",
              "    (6): ReLU()\n",
              "    (7): Dropout(p=0.2, inplace=False)\n",
              "    (8): Linear(in_features=8, out_features=3, bias=True)\n",
              "  )\n",
              ")"
            ]
          },
          "metadata": {},
          "execution_count": 24
        }
      ],
      "source": [
        "class Model(nn.Module):\n",
        "  def __init__(self, inputs, outputs, dropout_prob, hidden=8):\n",
        "    super().__init__()\n",
        "    self.linear_layer_stack = nn.Sequential(\n",
        "        nn.Linear(in_features=inputs, out_features=hidden),\n",
        "        nn.BatchNorm1d(hidden),\n",
        "        nn.ReLU(),\n",
        "        nn.Dropout(p=dropout_prob),\n",
        "        nn.Linear(in_features=hidden, out_features=hidden),\n",
        "        nn.BatchNorm1d(hidden),\n",
        "        nn.ReLU(),\n",
        "        nn.Dropout(p=dropout_prob),\n",
        "        nn.Linear(in_features=hidden, out_features=outputs)\n",
        "    )\n",
        "\n",
        "  def forward(self, x):\n",
        "    return self.linear_layer_stack(x)\n",
        "\n",
        "input_num = (raw_data.shape[1] - 1)\n",
        "output_num = 3\n",
        "\n",
        "model = Model(inputs=input_num,\n",
        "              outputs=output_num,\n",
        "              dropout_prob=0.2)\n",
        "\n",
        "model"
      ]
    },
    {
      "cell_type": "markdown",
      "metadata": {
        "id": "uxuqAwPqVKyk"
      },
      "source": [
        "###Obtain the Class Weights\n"
      ]
    },
    {
      "cell_type": "code",
      "execution_count": null,
      "metadata": {
        "id": "W9CAHEjYUh_X"
      },
      "outputs": [],
      "source": [
        "def get_class_weights(data_frame, target):\n",
        "  # create X and y varialbles\n",
        "  y = data_frame[target]\n",
        "  X = data_frame.drop(columns=target)\n",
        "\n",
        "  # split the data\n",
        "  X_train, X_valid, y_train, y_valid = train_test_split(X,\n",
        "                                                        y,\n",
        "                                                        test_size=0.2,\n",
        "                                                        shuffle=True)\n",
        "\n",
        "  class_counts = np.bincount(y_train)\n",
        "  num_classes = len(class_counts)\n",
        "  total_samples = len(y_train)\n",
        "\n",
        "  class_weights = []\n",
        "  for count in class_counts:\n",
        "      weight = 1 / (count / total_samples)\n",
        "      class_weights.append(weight)\n",
        "\n",
        "  return class_weights\n",
        "\n",
        "\n",
        "class_weights = get_class_weights(raw_data, 'e_class')"
      ]
    },
    {
      "cell_type": "code",
      "execution_count": null,
      "metadata": {
        "colab": {
          "base_uri": "https://localhost:8080/"
        },
        "id": "PPmZBCU2PTzy",
        "outputId": "4f984e33-78c3-42a8-f84c-321dd60d6097"
      },
      "outputs": [
        {
          "output_type": "execute_result",
          "data": {
            "text/plain": [
              "tensor([1.9115, 9.5900, 2.6840])"
            ]
          },
          "metadata": {},
          "execution_count": 26
        }
      ],
      "source": [
        "# convert list type to tensor\n",
        "class_weights = torch.Tensor(class_weights)\n",
        "class_weights.to(device)\n",
        "class_weights"
      ]
    },
    {
      "cell_type": "markdown",
      "metadata": {
        "id": "hJD1qCQsWTpo"
      },
      "source": [
        "###Define the Focal Loss Function"
      ]
    },
    {
      "cell_type": "code",
      "execution_count": null,
      "metadata": {
        "id": "O0h2l134WRD4"
      },
      "outputs": [],
      "source": [
        "class FocalLoss(nn.Module):\n",
        "  def __init__(self, alpha=None, gamma=2):\n",
        "      super(FocalLoss, self).__init__()\n",
        "      self.alpha = alpha\n",
        "      self.gamma = gamma\n",
        "\n",
        "      # Check if alpha is provided and if it's a tensor with non-zero values\n",
        "      if self.alpha is not None:\n",
        "          if not isinstance(self.alpha, torch.Tensor) or (self.alpha == 0).any():\n",
        "              raise ValueError(\"alpha should be a tensor with non-zero values for all classes.\")\n",
        "\n",
        "  def forward(self, inputs, targets):\n",
        "      ce_loss = F.cross_entropy(inputs, targets, reduction='none')\n",
        "      ce_loss = torch.clamp(ce_loss, min=1e-10, max=1e10)\n",
        "      pt = torch.exp(-ce_loss) + 1e-10\n",
        "      loss = (self.alpha[targets] * (1 - pt) ** self.gamma * ce_loss).mean()\n",
        "      return loss\n",
        "\n",
        "loss_fn = FocalLoss(alpha=class_weights, gamma=2)"
      ]
    },
    {
      "cell_type": "markdown",
      "metadata": {
        "id": "v_dIw6piVQ_A"
      },
      "source": [
        "###Define the Accuracy Function /Set Hyperparameters"
      ]
    },
    {
      "cell_type": "code",
      "execution_count": null,
      "metadata": {
        "id": "qQEeBewrVZov"
      },
      "outputs": [],
      "source": [
        "# create the accuracy function\n",
        "accuracy = Accuracy(task='multiclass', num_classes=3)\n",
        "\n",
        "# set learning rate\n",
        "LR = 0.0011\n",
        "\n",
        "# create an optimizer\n",
        "optimizer = torch.optim.Adam(params=model.parameters(), lr=LR)"
      ]
    },
    {
      "cell_type": "markdown",
      "metadata": {
        "id": "Id99brIbV9XF"
      },
      "source": [
        "###Train the Model"
      ]
    },
    {
      "cell_type": "code",
      "execution_count": null,
      "metadata": {
        "colab": {
          "base_uri": "https://localhost:8080/",
          "height": 780
        },
        "id": "yeh15TTpKlvj",
        "outputId": "bdf98f52-ebd2-416e-a759-551f7ac9a66e"
      },
      "outputs": [
        {
          "output_type": "stream",
          "name": "stdout",
          "text": [
            "Epoch 0 accuracy: 0.79%\n",
            "Epoch 10 accuracy: 0.79%\n",
            "Epoch 20 accuracy: 0.79%\n",
            "Epoch 30 accuracy: 0.79%\n",
            "Epoch 40 accuracy: 0.79%\n",
            "Epoch 50 accuracy: 0.78%\n",
            "Epoch 60 accuracy: 0.79%\n",
            "Epoch 70 accuracy: 0.75%\n",
            "Epoch 80 accuracy: 0.79%\n",
            "Epoch 90 accuracy: 0.78%\n",
            "Epoch 100 accuracy: 0.79%\n",
            "\n",
            "Validation Precision: 0.53\n",
            "Validation Recall: 0.57\n"
          ]
        },
        {
          "output_type": "display_data",
          "data": {
            "text/html": [
              "<html>\n",
              "<head><meta charset=\"utf-8\" /></head>\n",
              "<body>\n",
              "    <div>            <script src=\"https://cdnjs.cloudflare.com/ajax/libs/mathjax/2.7.5/MathJax.js?config=TeX-AMS-MML_SVG\"></script><script type=\"text/javascript\">if (window.MathJax && window.MathJax.Hub && window.MathJax.Hub.Config) {window.MathJax.Hub.Config({SVG: {font: \"STIX-Web\"}});}</script>                <script type=\"text/javascript\">window.PlotlyConfig = {MathJaxConfig: 'local'};</script>\n",
              "        <script charset=\"utf-8\" src=\"https://cdn.plot.ly/plotly-2.24.1.min.js\"></script>                <div id=\"40431a99-61b9-4ae9-9f13-5470804ba7fd\" class=\"plotly-graph-div\" style=\"height:525px; width:100%;\"></div>            <script type=\"text/javascript\">                                    window.PLOTLYENV=window.PLOTLYENV || {};                                    if (document.getElementById(\"40431a99-61b9-4ae9-9f13-5470804ba7fd\")) {                    Plotly.newPlot(                        \"40431a99-61b9-4ae9-9f13-5470804ba7fd\",                        [{\"mode\":\"lines\",\"name\":\"Training Loss\",\"x\":[0,1,2,3,4,5,6,7,8,9,10,11,12,13,14,15,16,17,18,19,20,21,22,23,24,25,26,27,28,29,30,31,32,33,34,35,36,37,38,39,40,41,42,43,44,45,46,47,48,49,50,51,52,53,54,55,56,57,58,59,60,61,62,63,64,65,66,67,68,69,70,71,72,73,74,75,76,77,78,79,80,81,82,83,84,85,86,87,88,89,90,91,92,93,94,95,96,97,98,99,100],\"y\":[0.971487283706665,1.1009833812713623,0.9134096503257751,1.173099398612976,1.0700873136520386,1.0029481649398804,1.124008297920227,1.056019902229309,1.0385133028030396,1.1812156438827515,1.163545846939087,1.0498073101043701,1.173072099685669,0.9672460556030273,1.2160136699676514,1.0310842990875244,1.171850562095642,1.192077875137329,1.0705971717834473,1.0456959009170532,1.177633285522461,1.0480741262435913,1.0099632740020752,1.136228084564209,1.2064441442489624,1.0738877058029175,1.0533052682876587,1.021173357963562,1.161607265472412,1.1849615573883057,1.0126745700836182,1.0434051752090454,0.9760196208953857,1.0041013956069946,1.0777777433395386,1.0445196628570557,1.06874418258667,1.1304621696472168,1.166893720626831,1.1865407228469849,1.226464867591858,1.2038172483444214,1.0693198442459106,1.1066956520080566,1.1651864051818848,1.1692060232162476,1.261592984199524,1.0745280981063843,1.059165596961975,1.0208873748779297,1.057449221611023,1.2104990482330322,1.0582618713378906,0.9864762425422668,0.9684733748435974,1.1428771018981934,1.1566529273986816,1.2676491737365723,1.0841294527053833,1.123694896697998,1.016663670539856,1.1414061784744263,1.0703953504562378,1.1044793128967285,1.0021241903305054,0.998838484287262,1.1599361896514893,1.0570790767669678,1.1169759035110474,1.1186784505844116,1.104335904121399,1.0008310079574585,1.2914494276046753,1.2031776905059814,1.034276008605957,1.0787705183029175,1.0905696153640747,1.0759316682815552,1.2028982639312744,0.9660727381706238,1.2347686290740967,1.2188055515289307,1.2338049411773682,1.0592598915100098,1.143215298652649,1.1013071537017822,1.0841437578201294,1.1319825649261475,1.1381839513778687,1.0204975605010986,1.0310386419296265,1.1036412715911865,1.1164238452911377,1.0416429042816162,1.0827192068099976,1.0843114852905273,0.9910775423049927,1.2262451648712158,1.1369928121566772,1.2268545627593994,1.3142269849777222],\"type\":\"scatter\",\"xaxis\":\"x\",\"yaxis\":\"y\"},{\"mode\":\"lines\",\"name\":\"Training Accuracy\",\"x\":[0,1,2,3,4,5,6,7,8,9,10,11,12,13,14,15,16,17,18,19,20,21,22,23,24,25,26,27,28,29,30,31,32,33,34,35,36,37,38,39,40,41,42,43,44,45,46,47,48,49,50,51,52,53,54,55,56,57,58,59,60,61,62,63,64,65,66,67,68,69,70,71,72,73,74,75,76,77,78,79,80,81,82,83,84,85,86,87,88,89,90,91,92,93,94,95,96,97,98,99,100],\"y\":[0.7875000014901161,0.7875000014901161,0.7861000016331673,0.7875000014901161,0.7842999994754791,0.7875000014901161,0.7875000014901161,0.7782000005245209,0.7852000027894974,0.7870000034570694,0.7874000012874603,0.7875000014901161,0.7875000014901161,0.7819999992847443,0.7875000014901161,0.7874000012874603,0.7875000014901161,0.7875000014901161,0.7856000006198883,0.7875000014901161,0.7864000022411346,0.7466000020503998,0.7870000034570694,0.7842999994754791,0.7875000014901161,0.7875000014901161,0.7875000014901161,0.7875000014901161,0.7875000014901161,0.7875000014901161,0.7875000014901161,0.7869000032544136,0.7622999981045723,0.7855000004172326,0.7870000034570694,0.7875000014901161,0.7863000020384788,0.7824000000953675,0.7487999960780144,0.7875000014901161,0.7861000016331673,0.7874000012874603,0.7479999974370003,0.7865000009536743,0.7875000014901161,0.7875000014901161,0.7875000014901161,0.7857000008225441,0.7874000012874603,0.7875000014901161,0.7824999988079071,0.7874000012874603,0.7875000014901161,0.7489999964833259,0.7842999994754791,0.7875000014901161,0.7831000000238418,0.7831999987363816,0.7875000014901161,0.7875000014901161,0.7875000014901161,0.7875000014901161,0.7865000009536743,0.7875000014901161,0.7874000012874603,0.7875000014901161,0.7875000014901161,0.7875000014901161,0.7875000014901161,0.7875000014901161,0.7481999978423118,0.7870000034570694,0.7875000014901161,0.7869000032544136,0.7875000014901161,0.7863000020384788,0.7874000012874603,0.7870000034570694,0.7861000016331673,0.7875000014901161,0.7875000014901161,0.7875000014901161,0.7845000013709068,0.7874000012874603,0.7852000027894974,0.7875000014901161,0.7857000008225441,0.7852000027894974,0.7874000012874603,0.7862000018358231,0.7782000005245209,0.7874000012874603,0.7463000014424324,0.7831000000238418,0.7874000012874603,0.7875000014901161,0.7860000029206275,0.7874000012874603,0.7870000034570694,0.7831000000238418,0.7870000019669533],\"type\":\"scatter\",\"xaxis\":\"x\",\"yaxis\":\"y\"},{\"mode\":\"lines\",\"name\":\"Validation Loss\",\"x\":[0,1,2,3,4,5,6,7,8,9,10,11,12,13,14,15,16,17,18,19,20,21,22,23,24,25,26,27,28,29,30,31,32,33,34,35,36,37,38,39,40,41,42,43,44,45,46,47,48,49,50,51,52,53,54,55,56,57,58,59,60,61,62,63,64,65,66,67,68,69,70,71,72,73,74,75,76,77,78,79,80,81,82,83,84,85,86,87,88,89,90,91,92,93,94,95,96,97,98,99,100],\"y\":[1.0322297394275666,1.0339253768324852,1.0313533425331116,1.032451842725277,1.0337687462568284,1.0313563778996468,1.035796085000038,1.033913990855217,1.0339484825730323,1.0316850528120995,1.031394211947918,1.0309341475367546,1.032172928750515,1.0298113211989404,1.0336163878440856,1.0324264511466026,1.0316035345196723,1.0312867999076842,1.0356281206011773,1.034308707714081,1.033860032260418,1.033176338672638,1.0327740356326103,1.033316694200039,1.0331380024552346,1.0317193046212196,1.031315191090107,1.0323492512106895,1.0319209918379784,1.030070398747921,1.0324619308114051,1.0303219839930535,1.030654527246952,1.0359831511974336,1.0330166682600974,1.0297020927071572,1.0312243476510048,1.0342838793992997,1.0321350634098052,1.031669682264328,1.031758938729763,1.0342165678739548,1.0324639201164245,1.034713052213192,1.0312384575605393,1.0282635331153869,1.03012767881155,1.0345888972282409,1.0321725219488145,1.033423788845539,1.0337749660015105,1.0333752885460854,1.0325088500976562,1.0331806421279908,1.0338225468993187,1.0296731188893318,1.0331151634454727,1.0341008245944976,1.0304915696382522,1.0303079262375832,1.0321204334497451,1.032773345708847,1.0333147376775742,1.0292366981506347,1.0304405495524407,1.0330587863922118,1.0331496059894563,1.0304602682590485,1.0312454015016557,1.030197437107563,1.0320578426122666,1.0314585357904433,1.0308967590332032,1.0323268562555312,1.0320873498916625,1.0302924826741218,1.0341950193047524,1.0332919478416442,1.0340361088514327,1.0291354179382324,1.0330455496907234,1.03008184581995,1.034473668038845,1.0323762223124504,1.033890463411808,1.033549004793167,1.0342151403427124,1.0335902243852615,1.034023182094097,1.0338426932692528,1.0333216428756713,1.033847476541996,1.0349829345941544,1.0347147688269616,1.0354798078536986,1.0346479684114456,1.0342303812503815,1.0324575886130334,1.0358543992042542,1.033032976090908,1.0348115861415863],\"type\":\"scatter\",\"xaxis\":\"x2\",\"yaxis\":\"y2\"},{\"mode\":\"lines\",\"name\":\"Validation Accuracy\",\"x\":[0,1,2,3,4,5,6,7,8,9,10,11,12,13,14,15,16,17,18,19,20,21,22,23,24,25,26,27,28,29,30,31,32,33,34,35,36,37,38,39,40,41,42,43,44,45,46,47,48,49,50,51,52,53,54,55,56,57,58,59,60,61,62,63,64,65,66,67,68,69,70,71,72,73,74,75,76,77,78,79,80,81,82,83,84,85,86,87,88,89,90,91,92,93,94,95,96,97,98,99,100],\"y\":[0.7875000014901161,0.7875000014901161,0.7861000016331673,0.7875000014901161,0.7842999994754791,0.7875000014901161,0.7875000014901161,0.7782000005245209,0.7852000027894974,0.7870000034570694,0.7874000012874603,0.7875000014901161,0.7875000014901161,0.7819999992847443,0.7875000014901161,0.7874000012874603,0.7875000014901161,0.7875000014901161,0.7856000006198883,0.7875000014901161,0.7864000022411346,0.7466000020503998,0.7870000034570694,0.7842999994754791,0.7875000014901161,0.7875000014901161,0.7875000014901161,0.7875000014901161,0.7875000014901161,0.7875000014901161,0.7875000014901161,0.7869000032544136,0.7622999981045723,0.7855000004172326,0.7870000034570694,0.7875000014901161,0.7863000020384788,0.7824000000953675,0.7487999960780144,0.7875000014901161,0.7861000016331673,0.7874000012874603,0.7479999974370003,0.7865000009536743,0.7875000014901161,0.7875000014901161,0.7875000014901161,0.7857000008225441,0.7874000012874603,0.7875000014901161,0.7824999988079071,0.7874000012874603,0.7875000014901161,0.7489999964833259,0.7842999994754791,0.7875000014901161,0.7831000000238418,0.7831999987363816,0.7875000014901161,0.7875000014901161,0.7875000014901161,0.7875000014901161,0.7865000009536743,0.7875000014901161,0.7874000012874603,0.7875000014901161,0.7875000014901161,0.7875000014901161,0.7875000014901161,0.7875000014901161,0.7481999978423118,0.7870000034570694,0.7875000014901161,0.7869000032544136,0.7875000014901161,0.7863000020384788,0.7874000012874603,0.7870000034570694,0.7861000016331673,0.7875000014901161,0.7875000014901161,0.7875000014901161,0.7845000013709068,0.7874000012874603,0.7852000027894974,0.7875000014901161,0.7857000008225441,0.7852000027894974,0.7874000012874603,0.7862000018358231,0.7782000005245209,0.7874000012874603,0.7463000014424324,0.7831000000238418,0.7874000012874603,0.7875000014901161,0.7860000029206275,0.7874000012874603,0.7870000034570694,0.7831000000238418,0.7870000019669533],\"type\":\"scatter\",\"xaxis\":\"x2\",\"yaxis\":\"y2\"}],                        {\"template\":{\"data\":{\"histogram2dcontour\":[{\"type\":\"histogram2dcontour\",\"colorbar\":{\"outlinewidth\":0,\"ticks\":\"\"},\"colorscale\":[[0.0,\"#0d0887\"],[0.1111111111111111,\"#46039f\"],[0.2222222222222222,\"#7201a8\"],[0.3333333333333333,\"#9c179e\"],[0.4444444444444444,\"#bd3786\"],[0.5555555555555556,\"#d8576b\"],[0.6666666666666666,\"#ed7953\"],[0.7777777777777778,\"#fb9f3a\"],[0.8888888888888888,\"#fdca26\"],[1.0,\"#f0f921\"]]}],\"choropleth\":[{\"type\":\"choropleth\",\"colorbar\":{\"outlinewidth\":0,\"ticks\":\"\"}}],\"histogram2d\":[{\"type\":\"histogram2d\",\"colorbar\":{\"outlinewidth\":0,\"ticks\":\"\"},\"colorscale\":[[0.0,\"#0d0887\"],[0.1111111111111111,\"#46039f\"],[0.2222222222222222,\"#7201a8\"],[0.3333333333333333,\"#9c179e\"],[0.4444444444444444,\"#bd3786\"],[0.5555555555555556,\"#d8576b\"],[0.6666666666666666,\"#ed7953\"],[0.7777777777777778,\"#fb9f3a\"],[0.8888888888888888,\"#fdca26\"],[1.0,\"#f0f921\"]]}],\"heatmap\":[{\"type\":\"heatmap\",\"colorbar\":{\"outlinewidth\":0,\"ticks\":\"\"},\"colorscale\":[[0.0,\"#0d0887\"],[0.1111111111111111,\"#46039f\"],[0.2222222222222222,\"#7201a8\"],[0.3333333333333333,\"#9c179e\"],[0.4444444444444444,\"#bd3786\"],[0.5555555555555556,\"#d8576b\"],[0.6666666666666666,\"#ed7953\"],[0.7777777777777778,\"#fb9f3a\"],[0.8888888888888888,\"#fdca26\"],[1.0,\"#f0f921\"]]}],\"heatmapgl\":[{\"type\":\"heatmapgl\",\"colorbar\":{\"outlinewidth\":0,\"ticks\":\"\"},\"colorscale\":[[0.0,\"#0d0887\"],[0.1111111111111111,\"#46039f\"],[0.2222222222222222,\"#7201a8\"],[0.3333333333333333,\"#9c179e\"],[0.4444444444444444,\"#bd3786\"],[0.5555555555555556,\"#d8576b\"],[0.6666666666666666,\"#ed7953\"],[0.7777777777777778,\"#fb9f3a\"],[0.8888888888888888,\"#fdca26\"],[1.0,\"#f0f921\"]]}],\"contourcarpet\":[{\"type\":\"contourcarpet\",\"colorbar\":{\"outlinewidth\":0,\"ticks\":\"\"}}],\"contour\":[{\"type\":\"contour\",\"colorbar\":{\"outlinewidth\":0,\"ticks\":\"\"},\"colorscale\":[[0.0,\"#0d0887\"],[0.1111111111111111,\"#46039f\"],[0.2222222222222222,\"#7201a8\"],[0.3333333333333333,\"#9c179e\"],[0.4444444444444444,\"#bd3786\"],[0.5555555555555556,\"#d8576b\"],[0.6666666666666666,\"#ed7953\"],[0.7777777777777778,\"#fb9f3a\"],[0.8888888888888888,\"#fdca26\"],[1.0,\"#f0f921\"]]}],\"surface\":[{\"type\":\"surface\",\"colorbar\":{\"outlinewidth\":0,\"ticks\":\"\"},\"colorscale\":[[0.0,\"#0d0887\"],[0.1111111111111111,\"#46039f\"],[0.2222222222222222,\"#7201a8\"],[0.3333333333333333,\"#9c179e\"],[0.4444444444444444,\"#bd3786\"],[0.5555555555555556,\"#d8576b\"],[0.6666666666666666,\"#ed7953\"],[0.7777777777777778,\"#fb9f3a\"],[0.8888888888888888,\"#fdca26\"],[1.0,\"#f0f921\"]]}],\"mesh3d\":[{\"type\":\"mesh3d\",\"colorbar\":{\"outlinewidth\":0,\"ticks\":\"\"}}],\"scatter\":[{\"fillpattern\":{\"fillmode\":\"overlay\",\"size\":10,\"solidity\":0.2},\"type\":\"scatter\"}],\"parcoords\":[{\"type\":\"parcoords\",\"line\":{\"colorbar\":{\"outlinewidth\":0,\"ticks\":\"\"}}}],\"scatterpolargl\":[{\"type\":\"scatterpolargl\",\"marker\":{\"colorbar\":{\"outlinewidth\":0,\"ticks\":\"\"}}}],\"bar\":[{\"error_x\":{\"color\":\"#2a3f5f\"},\"error_y\":{\"color\":\"#2a3f5f\"},\"marker\":{\"line\":{\"color\":\"#E5ECF6\",\"width\":0.5},\"pattern\":{\"fillmode\":\"overlay\",\"size\":10,\"solidity\":0.2}},\"type\":\"bar\"}],\"scattergeo\":[{\"type\":\"scattergeo\",\"marker\":{\"colorbar\":{\"outlinewidth\":0,\"ticks\":\"\"}}}],\"scatterpolar\":[{\"type\":\"scatterpolar\",\"marker\":{\"colorbar\":{\"outlinewidth\":0,\"ticks\":\"\"}}}],\"histogram\":[{\"marker\":{\"pattern\":{\"fillmode\":\"overlay\",\"size\":10,\"solidity\":0.2}},\"type\":\"histogram\"}],\"scattergl\":[{\"type\":\"scattergl\",\"marker\":{\"colorbar\":{\"outlinewidth\":0,\"ticks\":\"\"}}}],\"scatter3d\":[{\"type\":\"scatter3d\",\"line\":{\"colorbar\":{\"outlinewidth\":0,\"ticks\":\"\"}},\"marker\":{\"colorbar\":{\"outlinewidth\":0,\"ticks\":\"\"}}}],\"scattermapbox\":[{\"type\":\"scattermapbox\",\"marker\":{\"colorbar\":{\"outlinewidth\":0,\"ticks\":\"\"}}}],\"scatterternary\":[{\"type\":\"scatterternary\",\"marker\":{\"colorbar\":{\"outlinewidth\":0,\"ticks\":\"\"}}}],\"scattercarpet\":[{\"type\":\"scattercarpet\",\"marker\":{\"colorbar\":{\"outlinewidth\":0,\"ticks\":\"\"}}}],\"carpet\":[{\"aaxis\":{\"endlinecolor\":\"#2a3f5f\",\"gridcolor\":\"white\",\"linecolor\":\"white\",\"minorgridcolor\":\"white\",\"startlinecolor\":\"#2a3f5f\"},\"baxis\":{\"endlinecolor\":\"#2a3f5f\",\"gridcolor\":\"white\",\"linecolor\":\"white\",\"minorgridcolor\":\"white\",\"startlinecolor\":\"#2a3f5f\"},\"type\":\"carpet\"}],\"table\":[{\"cells\":{\"fill\":{\"color\":\"#EBF0F8\"},\"line\":{\"color\":\"white\"}},\"header\":{\"fill\":{\"color\":\"#C8D4E3\"},\"line\":{\"color\":\"white\"}},\"type\":\"table\"}],\"barpolar\":[{\"marker\":{\"line\":{\"color\":\"#E5ECF6\",\"width\":0.5},\"pattern\":{\"fillmode\":\"overlay\",\"size\":10,\"solidity\":0.2}},\"type\":\"barpolar\"}],\"pie\":[{\"automargin\":true,\"type\":\"pie\"}]},\"layout\":{\"autotypenumbers\":\"strict\",\"colorway\":[\"#636efa\",\"#EF553B\",\"#00cc96\",\"#ab63fa\",\"#FFA15A\",\"#19d3f3\",\"#FF6692\",\"#B6E880\",\"#FF97FF\",\"#FECB52\"],\"font\":{\"color\":\"#2a3f5f\"},\"hovermode\":\"closest\",\"hoverlabel\":{\"align\":\"left\"},\"paper_bgcolor\":\"white\",\"plot_bgcolor\":\"#E5ECF6\",\"polar\":{\"bgcolor\":\"#E5ECF6\",\"angularaxis\":{\"gridcolor\":\"white\",\"linecolor\":\"white\",\"ticks\":\"\"},\"radialaxis\":{\"gridcolor\":\"white\",\"linecolor\":\"white\",\"ticks\":\"\"}},\"ternary\":{\"bgcolor\":\"#E5ECF6\",\"aaxis\":{\"gridcolor\":\"white\",\"linecolor\":\"white\",\"ticks\":\"\"},\"baxis\":{\"gridcolor\":\"white\",\"linecolor\":\"white\",\"ticks\":\"\"},\"caxis\":{\"gridcolor\":\"white\",\"linecolor\":\"white\",\"ticks\":\"\"}},\"coloraxis\":{\"colorbar\":{\"outlinewidth\":0,\"ticks\":\"\"}},\"colorscale\":{\"sequential\":[[0.0,\"#0d0887\"],[0.1111111111111111,\"#46039f\"],[0.2222222222222222,\"#7201a8\"],[0.3333333333333333,\"#9c179e\"],[0.4444444444444444,\"#bd3786\"],[0.5555555555555556,\"#d8576b\"],[0.6666666666666666,\"#ed7953\"],[0.7777777777777778,\"#fb9f3a\"],[0.8888888888888888,\"#fdca26\"],[1.0,\"#f0f921\"]],\"sequentialminus\":[[0.0,\"#0d0887\"],[0.1111111111111111,\"#46039f\"],[0.2222222222222222,\"#7201a8\"],[0.3333333333333333,\"#9c179e\"],[0.4444444444444444,\"#bd3786\"],[0.5555555555555556,\"#d8576b\"],[0.6666666666666666,\"#ed7953\"],[0.7777777777777778,\"#fb9f3a\"],[0.8888888888888888,\"#fdca26\"],[1.0,\"#f0f921\"]],\"diverging\":[[0,\"#8e0152\"],[0.1,\"#c51b7d\"],[0.2,\"#de77ae\"],[0.3,\"#f1b6da\"],[0.4,\"#fde0ef\"],[0.5,\"#f7f7f7\"],[0.6,\"#e6f5d0\"],[0.7,\"#b8e186\"],[0.8,\"#7fbc41\"],[0.9,\"#4d9221\"],[1,\"#276419\"]]},\"xaxis\":{\"gridcolor\":\"white\",\"linecolor\":\"white\",\"ticks\":\"\",\"title\":{\"standoff\":15},\"zerolinecolor\":\"white\",\"automargin\":true,\"zerolinewidth\":2},\"yaxis\":{\"gridcolor\":\"white\",\"linecolor\":\"white\",\"ticks\":\"\",\"title\":{\"standoff\":15},\"zerolinecolor\":\"white\",\"automargin\":true,\"zerolinewidth\":2},\"scene\":{\"xaxis\":{\"backgroundcolor\":\"#E5ECF6\",\"gridcolor\":\"white\",\"linecolor\":\"white\",\"showbackground\":true,\"ticks\":\"\",\"zerolinecolor\":\"white\",\"gridwidth\":2},\"yaxis\":{\"backgroundcolor\":\"#E5ECF6\",\"gridcolor\":\"white\",\"linecolor\":\"white\",\"showbackground\":true,\"ticks\":\"\",\"zerolinecolor\":\"white\",\"gridwidth\":2},\"zaxis\":{\"backgroundcolor\":\"#E5ECF6\",\"gridcolor\":\"white\",\"linecolor\":\"white\",\"showbackground\":true,\"ticks\":\"\",\"zerolinecolor\":\"white\",\"gridwidth\":2}},\"shapedefaults\":{\"line\":{\"color\":\"#2a3f5f\"}},\"annotationdefaults\":{\"arrowcolor\":\"#2a3f5f\",\"arrowhead\":0,\"arrowwidth\":1},\"geo\":{\"bgcolor\":\"white\",\"landcolor\":\"#E5ECF6\",\"subunitcolor\":\"white\",\"showland\":true,\"showlakes\":true,\"lakecolor\":\"white\"},\"title\":{\"x\":0.05},\"mapbox\":{\"style\":\"light\"}}},\"xaxis\":{\"anchor\":\"y\",\"domain\":[0.0,1.0],\"title\":{\"text\":\"Epochs\"}},\"yaxis\":{\"anchor\":\"x\",\"domain\":[0.625,1.0],\"title\":{\"text\":\"Training Loss\"}},\"xaxis2\":{\"anchor\":\"y2\",\"domain\":[0.0,1.0],\"title\":{\"text\":\"Epochs\"}},\"yaxis2\":{\"anchor\":\"x2\",\"domain\":[0.0,0.375],\"title\":{\"text\":\"Validation Loss\"}},\"annotations\":[{\"font\":{\"size\":16},\"showarrow\":false,\"text\":\"Training Metics\",\"x\":0.5,\"xanchor\":\"center\",\"xref\":\"paper\",\"y\":1.0,\"yanchor\":\"bottom\",\"yref\":\"paper\"},{\"font\":{\"size\":16},\"showarrow\":false,\"text\":\"Validation Metrics\",\"x\":0.5,\"xanchor\":\"center\",\"xref\":\"paper\",\"y\":0.375,\"yanchor\":\"bottom\",\"yref\":\"paper\"}]},                        {\"responsive\": true}                    ).then(function(){\n",
              "                            \n",
              "var gd = document.getElementById('40431a99-61b9-4ae9-9f13-5470804ba7fd');\n",
              "var x = new MutationObserver(function (mutations, observer) {{\n",
              "        var display = window.getComputedStyle(gd).display;\n",
              "        if (!display || display === 'none') {{\n",
              "            console.log([gd, 'removed!']);\n",
              "            Plotly.purge(gd);\n",
              "            observer.disconnect();\n",
              "        }}\n",
              "}});\n",
              "\n",
              "// Listen for the removal of the full notebook cells\n",
              "var notebookContainer = gd.closest('#notebook-container');\n",
              "if (notebookContainer) {{\n",
              "    x.observe(notebookContainer, {childList: true});\n",
              "}}\n",
              "\n",
              "// Listen for the clearing of the current output cell\n",
              "var outputEl = gd.closest('.output');\n",
              "if (outputEl) {{\n",
              "    x.observe(outputEl, {childList: true});\n",
              "}}\n",
              "\n",
              "                        })                };                            </script>        </div>\n",
              "</body>\n",
              "</html>"
            ]
          },
          "metadata": {}
        }
      ],
      "source": [
        "# create the training method\n",
        "def train_model(model, tensor_train_data, tensor_valid_data, loss_fn, accuracy_fn, optimizer, device: torch.device = device):\n",
        "  # set number of epochs\n",
        "  EPOCHS = 101\n",
        "\n",
        "  # put the data model and accuracy function on the desired device\n",
        "  model = model.to(device)\n",
        "  accuracy = accuracy_fn.to(device)\n",
        "  loss_fn = loss_fn.to(device)\n",
        "\n",
        "  # create the training and validation loaders\n",
        "  train_loader = torch.utils.data.DataLoader(tensor_train_data, batch_size=250, shuffle=True)\n",
        "  valid_loader = torch.utils.data.DataLoader(tensor_valid_data, batch_size=250)\n",
        "\n",
        "  train_losses = []\n",
        "  valid_losses = []\n",
        "  train_accuracies = []\n",
        "  valid_accuracies = []\n",
        "\n",
        "  #loop through the data\n",
        "  for epoch in range(EPOCHS):\n",
        "\n",
        "    # set model to train\n",
        "    model.train()\n",
        "\n",
        "    # Iterate over the DataLoader for training data\n",
        "    for X_train, y_train in train_loader:\n",
        "      #put the data on the correct device\n",
        "      X_train = X_train.to(device)\n",
        "      y_train = y_train.to(device)\n",
        "\n",
        "      # forward pass\n",
        "      y_logits = model(X_train)\n",
        "\n",
        "      # convert logits into probabilites then prediciton labels\n",
        "      y_pred = torch.softmax(y_logits, dim=1).argmax(dim=1)\n",
        "\n",
        "      # calculate the loss\n",
        "      loss = loss_fn(y_logits, y_train)\n",
        "\n",
        "      # optimizer zero_grad\n",
        "      optimizer.zero_grad()\n",
        "\n",
        "      # back propagation\n",
        "      loss.backward()\n",
        "\n",
        "      # optimizer step\n",
        "      optimizer.step()\n",
        "\n",
        "\n",
        "    ### Validation\n",
        "\n",
        "    # put model into eval and inference mode\n",
        "    model.eval()\n",
        "    with torch.inference_mode():\n",
        "      # training and validation metrics\n",
        "      total_accuracy = 0\n",
        "      total_loss = 0\n",
        "      all_valid_preds = []\n",
        "      all_valid_labels = []\n",
        "\n",
        "      for X_valid, y_valid in valid_loader:\n",
        "\n",
        "        # create the valid logits\n",
        "        valid_logits = model(X_valid)\n",
        "\n",
        "        # convert logits into prediction proabailites then prediction labels\n",
        "        valid_preds = torch.softmax(valid_logits, dim=1).argmax(dim=1)\n",
        "\n",
        "        # calculate the loss\n",
        "        valid_loss = loss_fn(valid_logits, y_valid)\n",
        "\n",
        "        # calculate the accuracy\n",
        "        valid_acc = accuracy(valid_preds, y_valid)\n",
        "\n",
        "        # total accuracy and loss\n",
        "        total_accuracy += valid_acc.item()\n",
        "        total_loss += valid_loss.item()\n",
        "\n",
        "        #validation metrics\n",
        "        all_valid_preds.extend(valid_preds.cpu().numpy())\n",
        "        all_valid_labels.extend(y_valid.cpu().numpy())\n",
        "\n",
        "      # epoch accuracy and loss\n",
        "      epoch_accuracy = total_accuracy / len(valid_loader)\n",
        "      epoch_loss = total_loss / len(valid_loader)\n",
        "\n",
        "      # Calculate precision and recall\n",
        "      precision = precision_score(all_valid_labels, all_valid_preds, average='macro', zero_division=1.0)\n",
        "      recall = recall_score(all_valid_labels, all_valid_preds, average='macro', zero_division=1.0)\n",
        "\n",
        "      train_losses.append(loss.item())\n",
        "      valid_losses.append(epoch_loss)\n",
        "      train_accuracies.append(epoch_accuracy)\n",
        "      valid_accuracies.append(epoch_accuracy)\n",
        "\n",
        "      if epoch % 10 == 0:\n",
        "        print(f'Epoch {epoch} accuracy: {epoch_accuracy:.2f}%')\n",
        "\n",
        "  print(f'\\nValidation Precision: {precision:.2f}')\n",
        "  print(f'Validation Recall: {recall:.2f}')\n",
        "\n",
        "  # Create subplots for training and validation metrics\n",
        "  fig = make_subplots(rows=2, cols=1, subplot_titles=(\"Training Metics\", \"Validation Metrics\"))\n",
        "\n",
        "  # Add training loss and accuracy traces to the first figure\n",
        "  fig.add_trace(go.Scatter(x=list(range(EPOCHS)), y=train_losses, mode='lines', name='Training Loss'), row=1, col=1)\n",
        "  fig.add_trace(go.Scatter(x=list(range(EPOCHS)), y=train_accuracies, mode='lines', name='Training Accuracy'), row=1, col=1)\n",
        "\n",
        "  # Add validation loss and accuracy traces to the second figure\n",
        "  fig.add_trace(go.Scatter(x=list(range(EPOCHS)), y=valid_losses, mode='lines', name='Validation Loss'), row=2, col=1)\n",
        "  fig.add_trace(go.Scatter(x=list(range(EPOCHS)), y=valid_accuracies, mode='lines', name='Validation Accuracy'), row=2, col=1)\n",
        "\n",
        "  # Update layout for both figures\n",
        "  fig.update_xaxes(title_text=\"Epochs\", row=1, col=1)\n",
        "  fig.update_xaxes(title_text=\"Epochs\", row=2, col=1)\n",
        "  fig.update_yaxes(title_text=\"Training Loss\", row=1, col=1)\n",
        "  fig.update_yaxes(title_text=\"Validation Loss\", row=2, col=1)\n",
        "\n",
        "  # Show the two plots\n",
        "  fig.show()\n",
        "\n",
        "  return model\n",
        "\n",
        "# call the training method\n",
        "model = train_model(model=model,\n",
        "                    tensor_train_data=train_tensor,\n",
        "                    tensor_valid_data=valid_tensor,\n",
        "                    loss_fn=loss_fn,\n",
        "                    accuracy_fn=accuracy,\n",
        "                    optimizer=optimizer)"
      ]
    },
    {
      "cell_type": "markdown",
      "source": [
        "####Save the model to Google Drive"
      ],
      "metadata": {
        "id": "o5hEU7Y1q7SX"
      }
    },
    {
      "cell_type": "code",
      "source": [
        "torch.save(model.state_dict(), '/content/drive/My Drive/Sloan_Sky_Survey/Sloan_Model.pth')"
      ],
      "metadata": {
        "id": "uxjARp5Vq-cv"
      },
      "execution_count": null,
      "outputs": []
    }
  ],
  "metadata": {
    "colab": {
      "provenance": [],
      "authorship_tag": "ABX9TyNf39zEauG/HbOuV0Rj6Jgb",
      "include_colab_link": true
    },
    "kernelspec": {
      "display_name": "Python 3",
      "name": "python3"
    },
    "language_info": {
      "name": "python"
    }
  },
  "nbformat": 4,
  "nbformat_minor": 0
}